{
 "cells": [
  {
   "cell_type": "markdown",
   "metadata": {},
   "source": [
    "# 2.3 - Descrição do dados\n",
    "\n",
    "1. Fazer uma tabela e colocar o volume dos dados e descrever cada um dos atributos.\n",
    "\n",
    "\n",
    "# 2.4 - Realizar algumas questões que vão ser exploradas\n",
    "\n",
    "1. Iremos explorar bl \n",
    "\n",
    "\n",
    "# 2.6 - Limpeza e pré-processamento dos dados\n",
    "\n",
    "1. Remover atributos desnecessários \n",
    "2. Tratamento dos tipos de dados dos atributos\n",
    "3. Filtrar os filmes por ano\n",
    "4. Agrupar categorias (gênero, país etc) de acordo com as cores pré-definidas (cores dos daltonicos)\n",
    "5. Filtrar filmes com poucos votos (distribuição dos votos pra saber qual o threshold)\n"
   ]
  },
  {
   "cell_type": "markdown",
   "metadata": {},
   "source": [
    "# 3 - Visualizações\n",
    "\n",
    "0. Correlação entre variáveis -> heatmap \n",
    "1. País x #filmes ->  Choropleth, Bubble map, Tabela? <br>\n",
    "1.1. País x #filmes x gênero -> Bubble map, Heat map, Tabela?\n",
    "2. colaboração entre paises x #filmes -> Connection map, Sankey diagram?\n",
    "3. Genero x #filmes x tempo(anos) -> Heat map, Multiple Line chart?\n",
    "4. Palavras chave  -> Nuvem de palavras, Bar chart, Lolipop\n",
    "5. #filmes x mes x ano -> Heat map, Multiple Line chart? <br>\n",
    "5.1 mediana receita x mes x ano -> Heat map, Multiple Line chart (Em quais meses os blockbursters tendem a ser lançados?)?\n",
    "6. #filmes x gênero x popularidade/avaliação -> grouped bar, scatter plot?\n",
    "7. Hipótese: a duração de um filme influência em seu sucesso (lucro, popularidade, rating)?\n",
    "8. Média de avaliação e popularidade x gênero -> violin plot, Density plot <br>\n",
    "8.1 gêneros juntos  <br>\n",
    "8.2 gêneros separados <br>\n",
    "9. receita x orçamento x gênero -> grouped bar, stacked área plot, lolipop\n",
    "10. Correlação popularidade x avaliação -> scatter plot <br>\n",
    "10.1 Correlação receita x avaliação -> scatter plot <br>\n",
    "10.2 Correlação lucro x avaliação -> scatter plot \n",
    "11. Companhias x mediana receita x mediana avaliação.\n",
    "12. Orçamento x avaliação/popularidade.\n",
    "13. Diretores mais bem avaliados  <br> \n",
    "13.1 Diretores x avaliação <br>\n",
    "13.2 Diretores x receita\n",
    "14. Orçamento x mes x ano"
   ]
  },
  {
   "cell_type": "code",
   "execution_count": null,
   "metadata": {},
   "outputs": [],
   "source": []
  }
 ],
 "metadata": {
  "kernelspec": {
   "display_name": "Python 3",
   "language": "python",
   "name": "python3"
  },
  "language_info": {
   "codemirror_mode": {
    "name": "ipython",
    "version": 3
   },
   "file_extension": ".py",
   "mimetype": "text/x-python",
   "name": "python",
   "nbconvert_exporter": "python",
   "pygments_lexer": "ipython3",
   "version": "3.7.4"
  }
 },
 "nbformat": 4,
 "nbformat_minor": 2
}
